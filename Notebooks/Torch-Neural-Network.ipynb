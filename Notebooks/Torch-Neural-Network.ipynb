{
 "cells": [
  {
   "cell_type": "code",
   "execution_count": 1,
   "metadata": {},
   "outputs": [],
   "source": [
    "import numpy as np\n",
    "import pandas as pd\n",
    "from sklearn.preprocessing import StandardScaler\n",
    "from sklearn.model_selection import train_test_split\n",
    "from collections import OrderedDict\n",
    "import torch\n",
    "from torch import nn\n",
    "from torch.utils.data import TensorDataset, DataLoader\n",
    "from sklearn.metrics import r2_score\n",
    "import matplotlib.pyplot as plt"
   ]
  },
  {
   "cell_type": "code",
   "execution_count": 2,
   "metadata": {},
   "outputs": [
    {
     "data": {
      "text/html": [
       "<div>\n",
       "<style scoped>\n",
       "    .dataframe tbody tr th:only-of-type {\n",
       "        vertical-align: middle;\n",
       "    }\n",
       "\n",
       "    .dataframe tbody tr th {\n",
       "        vertical-align: top;\n",
       "    }\n",
       "\n",
       "    .dataframe thead th {\n",
       "        text-align: right;\n",
       "    }\n",
       "</style>\n",
       "<table border=\"1\" class=\"dataframe\">\n",
       "  <thead>\n",
       "    <tr style=\"text-align: right;\">\n",
       "      <th></th>\n",
       "      <th>a</th>\n",
       "      <th>b</th>\n",
       "      <th>y</th>\n",
       "    </tr>\n",
       "  </thead>\n",
       "  <tbody>\n",
       "    <tr>\n",
       "      <th>0</th>\n",
       "      <td>786</td>\n",
       "      <td>1786</td>\n",
       "      <td>0.786</td>\n",
       "    </tr>\n",
       "    <tr>\n",
       "      <th>1</th>\n",
       "      <td>499</td>\n",
       "      <td>1499</td>\n",
       "      <td>0.499</td>\n",
       "    </tr>\n",
       "    <tr>\n",
       "      <th>2</th>\n",
       "      <td>930</td>\n",
       "      <td>1930</td>\n",
       "      <td>0.930</td>\n",
       "    </tr>\n",
       "    <tr>\n",
       "      <th>3</th>\n",
       "      <td>217</td>\n",
       "      <td>1217</td>\n",
       "      <td>0.217</td>\n",
       "    </tr>\n",
       "    <tr>\n",
       "      <th>4</th>\n",
       "      <td>803</td>\n",
       "      <td>1803</td>\n",
       "      <td>0.803</td>\n",
       "    </tr>\n",
       "    <tr>\n",
       "      <th>...</th>\n",
       "      <td>...</td>\n",
       "      <td>...</td>\n",
       "      <td>...</td>\n",
       "    </tr>\n",
       "    <tr>\n",
       "      <th>995</th>\n",
       "      <td>406</td>\n",
       "      <td>1406</td>\n",
       "      <td>0.406</td>\n",
       "    </tr>\n",
       "    <tr>\n",
       "      <th>996</th>\n",
       "      <td>390</td>\n",
       "      <td>1390</td>\n",
       "      <td>0.390</td>\n",
       "    </tr>\n",
       "    <tr>\n",
       "      <th>997</th>\n",
       "      <td>143</td>\n",
       "      <td>1143</td>\n",
       "      <td>0.143</td>\n",
       "    </tr>\n",
       "    <tr>\n",
       "      <th>998</th>\n",
       "      <td>241</td>\n",
       "      <td>1241</td>\n",
       "      <td>0.241</td>\n",
       "    </tr>\n",
       "    <tr>\n",
       "      <th>999</th>\n",
       "      <td>623</td>\n",
       "      <td>1623</td>\n",
       "      <td>0.623</td>\n",
       "    </tr>\n",
       "  </tbody>\n",
       "</table>\n",
       "<p>1000 rows × 3 columns</p>\n",
       "</div>"
      ],
      "text/plain": [
       "       a     b      y\n",
       "0    786  1786  0.786\n",
       "1    499  1499  0.499\n",
       "2    930  1930  0.930\n",
       "3    217  1217  0.217\n",
       "4    803  1803  0.803\n",
       "..   ...   ...    ...\n",
       "995  406  1406  0.406\n",
       "996  390  1390  0.390\n",
       "997  143  1143  0.143\n",
       "998  241  1241  0.241\n",
       "999  623  1623  0.623\n",
       "\n",
       "[1000 rows x 3 columns]"
      ]
     },
     "execution_count": 2,
     "metadata": {},
     "output_type": "execute_result"
    }
   ],
   "source": [
    "# Build a example dataset\n",
    "data = pd.DataFrame({'a':range(1000), 'b':range(1000,2000), 'y': [i/1000 for i in range(1000)]}).sample(frac=1, random_state=17).reset_index(drop=True)\n",
    "data"
   ]
  },
  {
   "cell_type": "code",
   "execution_count": 3,
   "metadata": {},
   "outputs": [],
   "source": [
    "# Split the data into train and test\n",
    "X = data.drop('y', axis=1)\n",
    "y = data['y']"
   ]
  },
  {
   "cell_type": "code",
   "execution_count": 4,
   "metadata": {},
   "outputs": [
    {
     "name": "stdout",
     "output_type": "stream",
     "text": [
      "(600, 2) (200, 2) (200, 2)\n"
     ]
    }
   ],
   "source": [
    "X_train, y_train = X[:600], y[:600]\n",
    "X_val, y_val = X[600:800], y[600:800]\n",
    "X_test, y_test = X[800:], y[800:]\n",
    "print(X_train.shape, X_val.shape, X_test.shape)"
   ]
  },
  {
   "cell_type": "code",
   "execution_count": 5,
   "metadata": {},
   "outputs": [],
   "source": [
    "scaler = StandardScaler()\n",
    "X_train = scaler.fit_transform(X_train)\n",
    "X_val = scaler.transform(X_val)\n",
    "X_test = scaler.transform(X_test)"
   ]
  },
  {
   "cell_type": "markdown",
   "metadata": {},
   "source": [
    "# Torch Model"
   ]
  },
  {
   "cell_type": "code",
   "execution_count": 6,
   "metadata": {},
   "outputs": [
    {
     "name": "stdout",
     "output_type": "stream",
     "text": [
      "NVIDIA GeForce RTX 3070\n"
     ]
    }
   ],
   "source": [
    "# Select the device\n",
    "device = torch.device(\"cuda:0\" if torch.cuda.is_available() else \"cpu\")\n",
    "print(torch.cuda.get_device_name(0))"
   ]
  },
  {
   "cell_type": "code",
   "execution_count": 7,
   "metadata": {},
   "outputs": [],
   "source": [
    "# Convert the data to tensors\n",
    "X_train_tensor = torch.tensor(X_train, dtype=torch.float32, device=device)\n",
    "y_train_tensor = torch.tensor(y_train.values, dtype=torch.float32, device=device)\n",
    "\n",
    "X_val_tensor = torch.tensor(X_val, dtype=torch.float32, device=device)\n",
    "y_val_tensor = torch.tensor(y_val.values, dtype=torch.float32, device=device)\n",
    "\n",
    "X_test_tensor = torch.tensor(X_test, dtype=torch.float32, device=device)\n",
    "y_test_tensor = torch.tensor(y_test.values, dtype=torch.float32, device=device)"
   ]
  },
  {
   "cell_type": "code",
   "execution_count": 8,
   "metadata": {},
   "outputs": [
    {
     "data": {
      "text/plain": [
       "(torch.Size([600, 2]),\n",
       " torch.Size([600]),\n",
       " torch.Size([200, 2]),\n",
       " torch.Size([200]),\n",
       " torch.Size([200, 2]),\n",
       " torch.Size([200]))"
      ]
     },
     "execution_count": 8,
     "metadata": {},
     "output_type": "execute_result"
    }
   ],
   "source": [
    "X_train_tensor.shape, y_train_tensor.shape, X_val_tensor.shape, y_val_tensor.shape, X_test_tensor.shape, y_test_tensor.shape"
   ]
  },
  {
   "cell_type": "code",
   "execution_count": 9,
   "metadata": {},
   "outputs": [],
   "source": [
    "batch_size = 64\n",
    "train_loader = DataLoader(TensorDataset(X_train_tensor,y_train_tensor),batch_size=batch_size)\n",
    "val_loader = DataLoader(TensorDataset(X_val_tensor,y_val_tensor),batch_size=batch_size)"
   ]
  },
  {
   "cell_type": "code",
   "execution_count": 10,
   "metadata": {},
   "outputs": [],
   "source": [
    "class NeuralNet(nn.Module):\n",
    "    def __init__(self, params: dict):\n",
    "        super().__init__()\n",
    "        torch.manual_seed(17)\n",
    "        \n",
    "        # Build a ordered dictionary to store the model\n",
    "        model_dict = OrderedDict()\n",
    "        \n",
    "        # Add the input layer\n",
    "        model_dict['Input_layer'] = nn.Linear(params['input_shape'], params['layers'][0])\n",
    "        model_dict['Input_activation'] = self.choose_activation(params['activation'][0])\n",
    "        \n",
    "        # Add the hidden layers\n",
    "        if len(params['layers']) > 1:\n",
    "            for i in range(1, len(params['layers'])):\n",
    "                model_dict[f'Hidden_layer_{i}'] = nn.Linear(params['layers'][i-1], params['layers'][i])\n",
    "                model_dict[f'Hidden_activation_{i}'] = self.choose_activation(params['activation'][i])\n",
    "        \n",
    "        # Build the model using the ordered dictionary    \n",
    "        self.model = nn.Sequential(model_dict)\n",
    "\n",
    "    def choose_activation(self, activation: str):\n",
    "        \"\"\"\n",
    "        Choose the activation function\n",
    "        \n",
    "        Args:\n",
    "            activation (str): the name of the activation function\n",
    "        \n",
    "        Returns:\n",
    "            nn.Module: the activation function\n",
    "        \"\"\"\n",
    "        \n",
    "        if activation == 'relu':\n",
    "            return nn.ReLU()\n",
    "        elif activation == 'tanh':\n",
    "            return nn.Tanh()\n",
    "        elif activation == 'sigmoid':\n",
    "            return nn.Sigmoid()\n",
    "        else:\n",
    "            raise ValueError('Activation function not recognized')\n",
    "    \n",
    "    def forward(self, x: torch.Tensor):\n",
    "        \n",
    "        # Apply the model\n",
    "        preds = self.model(x)\n",
    "        \n",
    "        # Squeeze the tensor\n",
    "        preds = preds.squeeze()\n",
    "        return preds"
   ]
  },
  {
   "cell_type": "code",
   "execution_count": 11,
   "metadata": {},
   "outputs": [],
   "source": [
    "def one_epoch(model: nn.Module, loss_function: torch.nn.modules.loss, optimizer: torch.optim, metrics: list, loader: nn.Module, train:bool=True, device:str ='cpu'):\n",
    "        \"\"\"\n",
    "        Run one epoch.\n",
    "        \n",
    "        Args:\n",
    "            model (nn.Module): The model.\n",
    "            loss_function (torch.nn.modules.loss): The loss function.\n",
    "            optimizer (torch.optim): The optimizer.\n",
    "            metrics (list): The metrics to use.\n",
    "            loader (nn.Module): The dataloader.\n",
    "            train (bool): If the model is training.\n",
    "            device (str): The device to use.\n",
    "        \n",
    "        Returns:\n",
    "            info_dict (dict): A dictionary with the information of the epoch.\n",
    "        \"\"\"\n",
    "        \n",
    "        # Create a dictionary to store the information.\n",
    "        info_dict = {'Loss': []}\n",
    "        info_dict.update({metric.__name__: [] for metric in metrics})\n",
    "        \n",
    "        # Set the model to train or eval mode.\n",
    "        if train:\n",
    "            model.train()\n",
    "            torch.set_grad_enabled(True)\n",
    "        else:\n",
    "            model.eval()\n",
    "            torch.set_grad_enabled(False)\n",
    "           \n",
    "        for X, y in loader:\n",
    "            # Move the data to the device.\n",
    "            X, y = X.to(device), y.to(device)\n",
    "\n",
    "            if train:\n",
    "                optimizer.zero_grad()\n",
    "            \n",
    "            # Calculate the predictions and the loss.   \n",
    "            pred = model(X)\n",
    "            loss = loss_function(pred, y)\n",
    "            \n",
    "            # If the model is training, update the weights.\n",
    "            if train:\n",
    "                loss.backward()\n",
    "                optimizer.step()\n",
    "            \n",
    "            # Store the loss.\n",
    "            info_dict['Loss'].append(loss.item())\n",
    "            \n",
    "            # Calculate the metrics and store them.\n",
    "            for metric in metrics:\n",
    "                metric_value = metric(y.cpu().detach().numpy(), pred.cpu().detach().numpy())\n",
    "                info_dict[metric.__name__].append(metric_value)\n",
    "        \n",
    "        # Calculate the mean loss and the mean metrics.\n",
    "        info_dict = {key: np.mean(value) for key, value in info_dict.items()}\n",
    "        \n",
    "        # Add val prefix to the metrics if the model is not training.\n",
    "        if not train:\n",
    "            info_dict = {f'val_{key}': value for key, value in info_dict.items() if key != 'Epoch'}\n",
    "        \n",
    "        return info_dict"
   ]
  },
  {
   "cell_type": "code",
   "execution_count": 12,
   "metadata": {},
   "outputs": [],
   "source": [
    "class EarlyStopping:\n",
    "    def __init__(self, tolerance:int = 5, min_delta:float = 0, start_from_epoch:int = 0):\n",
    "\n",
    "        # Set the parameters\n",
    "        self.tolerance = tolerance\n",
    "        self.min_delta = min_delta\n",
    "        self.counter = 0\n",
    "        self.early_stop = False\n",
    "        self.start_from_epoch = start_from_epoch\n",
    "\n",
    "    def __call__(self, epoch, train_loss, validation_loss):\n",
    "        \n",
    "        # Check if the validation loss is less than the train loss\n",
    "        if epoch>=self.start_from_epoch and (validation_loss - train_loss) > self.min_delta:\n",
    "            \n",
    "            # Increase the counter\n",
    "            self.counter +=1\n",
    "            \n",
    "            # Check if the counter is greater than the tolerance\n",
    "            if self.counter >= self.tolerance:\n",
    "                # Set the early stop to True  \n",
    "                self.early_stop = True"
   ]
  },
  {
   "cell_type": "code",
   "execution_count": 13,
   "metadata": {},
   "outputs": [],
   "source": [
    "num_epochs = 200\n",
    "params={\n",
    "    'input_shape': 2,\n",
    "    'layers': [64, 32, 16, 1],\n",
    "    'activation': ['relu', 'relu', 'tanh', 'sigmoid'],\n",
    "}"
   ]
  },
  {
   "cell_type": "code",
   "execution_count": 14,
   "metadata": {},
   "outputs": [],
   "source": [
    "model = NeuralNet(params).to(device)\n",
    "loss_function = nn.MSELoss()\n",
    "optimizer = torch.optim.Adam(model.parameters(), lr=0.01)\n",
    "scheduler = torch.optim.lr_scheduler.ReduceLROnPlateau(optimizer, patience=10, factor =0.5, min_lr=1e-7, eps=1e-08, cooldown=20)\n",
    "early_stopping = EarlyStopping(tolerance=5, min_delta=1e-6, start_from_epoch=25)\n",
    "metrics = [r2_score]"
   ]
  },
  {
   "cell_type": "code",
   "execution_count": 15,
   "metadata": {},
   "outputs": [
    {
     "name": "stdout",
     "output_type": "stream",
     "text": [
      "Epoch 1/200\n",
      "Loss: 0.03138, r2_score: 0.5998, val_Loss: 0.01036, val_r2_score: 0.8757, lr: 0.01\n",
      "Epoch 10/200\n",
      "Loss: 0.0001773, r2_score: 0.9978, val_Loss: 0.0001556, val_r2_score: 0.9981, lr: 0.01\n",
      "Epoch 20/200\n",
      "Loss: 5.928e-05, r2_score: 0.9993, val_Loss: 5.289e-05, val_r2_score: 0.9994, lr: 0.01\n",
      "Epoch 30/200\n",
      "Loss: 0.0001428, r2_score: 0.9983, val_Loss: 0.0002931, val_r2_score: 0.9965, lr: 0.01\n",
      "Epoch 40/200\n",
      "Loss: 2.635e-05, r2_score: 0.9997, val_Loss: 2.177e-05, val_r2_score: 0.9997, lr: 0.01\n",
      "Epoch 50/200\n",
      "Loss: 1.735e-05, r2_score: 0.9998, val_Loss: 1.476e-05, val_r2_score: 0.9998, lr: 0.01\n",
      "Epoch 60/200\n",
      "Loss: 1.593e-05, r2_score: 0.9998, val_Loss: 1.27e-05, val_r2_score: 0.9998, lr: 0.01\n",
      "Early stopping\n",
      "Epoch 68/200\n",
      "Loss: 8.769e-05, r2_score: 0.9989, val_Loss: 0.0002924, val_r2_score: 0.9965, lr: 0.01\n"
     ]
    }
   ],
   "source": [
    "info_dict = {}\n",
    "\n",
    "for epoch in range(num_epochs):\n",
    "    \n",
    "    # Add the epoch to the info_dict\n",
    "    info_dict[epoch] = {}\n",
    "    \n",
    "    # Train the model\n",
    "    info_dict[epoch].update(one_epoch(model, loss_function, optimizer, metrics, train_loader, train=True, device=device))\n",
    "    \n",
    "    # Validate the model\n",
    "    info_dict[epoch].update(one_epoch(model, loss_function, optimizer, metrics, val_loader, train=False, device=device))\n",
    "    scheduler.step(info_dict[epoch]['val_Loss'])\n",
    "\n",
    "    # Add the learning rate\n",
    "    info_dict[epoch]['lr'] = optimizer.param_groups[0]['lr']\n",
    "    \n",
    "    if epoch == 0 or (epoch+1) %10 == 0:\n",
    "        print(f'Epoch {epoch+1}/{num_epochs}')\n",
    "        print(*['%s: %.4g'%(k,v) for k,v in info_dict[epoch].items()], sep=', ', end='\\n')\n",
    "    \n",
    "    # Early stopping\n",
    "    early_stopping(epoch, info_dict[epoch]['Loss'], info_dict[epoch]['val_Loss'])\n",
    "    if early_stopping.early_stop:\n",
    "        print('Early stopping')\n",
    "        print(f'Epoch {epoch+1}/{num_epochs}')\n",
    "        print(*['%s: %.4g'%(k,v) for k,v in info_dict[epoch].items()], sep=', ', end='\\n')\n",
    "        break"
   ]
  },
  {
   "cell_type": "code",
   "execution_count": 16,
   "metadata": {},
   "outputs": [
    {
     "data": {
      "text/plain": [
       "0.9966209839322665"
      ]
     },
     "execution_count": 16,
     "metadata": {},
     "output_type": "execute_result"
    }
   ],
   "source": [
    "test_preds = model(X_test_tensor).cpu().detach().numpy()\n",
    "r2_score(y_test, test_preds)"
   ]
  },
  {
   "cell_type": "code",
   "execution_count": 17,
   "metadata": {},
   "outputs": [
    {
     "data": {
      "image/png": "[encoded data removed]",
      "text/plain": [
       "<Figure size 2000x1000 with 1 Axes>"
      ]
     },
     "metadata": {},
     "output_type": "display_data"
    }
   ],
   "source": [
    "plt.figure(figsize=(20,10))\n",
    "plt.plot([info_dict[i]['Loss'] for i in info_dict])\n",
    "plt.plot([info_dict[i]['val_Loss'] for i in info_dict])\n",
    "plt.xlabel('Epochs')\n",
    "plt.ylabel('Loss')\n",
    "plt.show()"
   ]
  },
  {
   "cell_type": "code",
   "execution_count": 18,
   "metadata": {},
   "outputs": [
    {
     "data": {
      "image/png": "[encoded data removed]",
      "text/plain": [
       "<Figure size 2000x1000 with 1 Axes>"
      ]
     },
     "metadata": {},
     "output_type": "display_data"
    }
   ],
   "source": [
    "plt.figure(figsize=(20,10))\n",
    "plt.plot([info_dict[i]['r2_score'] for i in info_dict])\n",
    "plt.plot([info_dict[i]['val_r2_score'] for i in info_dict])\n",
    "plt.xlabel('Epochs')\n",
    "plt.ylabel('R^2 score')\n",
    "plt.show()"
   ]
  },
  {
   "cell_type": "code",
   "execution_count": null,
   "metadata": {},
   "outputs": [],
   "source": []
  }
 ],
 "metadata": {
  "kernelspec": {
   "display_name": "Entorno_3.9.13",
   "language": "python",
   "name": "python3"
  },
  "language_info": {
   "codemirror_mode": {
    "name": "ipython",
    "version": 3
   },
   "file_extension": ".py",
   "mimetype": "text/x-python",
   "name": "python",
   "nbconvert_exporter": "python",
   "pygments_lexer": "ipython3",
   "version": "3.10.9"
  }
 },
 "nbformat": 4,
 "nbformat_minor": 2
}
