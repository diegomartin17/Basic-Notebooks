{
 "cells": [
  {
   "cell_type": "code",
   "execution_count": 1,
   "metadata": {},
   "outputs": [
    {
     "name": "stdout",
     "output_type": "stream",
     "text": [
      "WARNING:tensorflow:From c:\\Users\\diego\\Desktop\\Facilitador\\Github\\Basic-Notebooks\\.venv\\lib\\site-packages\\keras\\src\\losses.py:2976: The name tf.losses.sparse_softmax_cross_entropy is deprecated. Please use tf.compat.v1.losses.sparse_softmax_cross_entropy instead.\n",
      "\n"
     ]
    }
   ],
   "source": [
    "import numpy as np\n",
    "import pandas as pd\n",
    "from sklearn.preprocessing import StandardScaler\n",
    "from sklearn.model_selection import train_test_split\n",
    "import tensorflow as tf\n",
    "from tensorflow.keras.models import Sequential\n",
    "from tensorflow.keras.layers import Dense\n",
    "from tensorflow.keras.optimizers import Adam\n",
    "from tensorflow.keras.callbacks import EarlyStopping\n",
    "from tensorflow.keras.callbacks import LearningRateScheduler\n",
    "from sklearn.metrics import r2_score"
   ]
  },
  {
   "cell_type": "code",
   "execution_count": 2,
   "metadata": {},
   "outputs": [
    {
     "data": {
      "text/html": [
       "<div>\n",
       "<style scoped>\n",
       "    .dataframe tbody tr th:only-of-type {\n",
       "        vertical-align: middle;\n",
       "    }\n",
       "\n",
       "    .dataframe tbody tr th {\n",
       "        vertical-align: top;\n",
       "    }\n",
       "\n",
       "    .dataframe thead th {\n",
       "        text-align: right;\n",
       "    }\n",
       "</style>\n",
       "<table border=\"1\" class=\"dataframe\">\n",
       "  <thead>\n",
       "    <tr style=\"text-align: right;\">\n",
       "      <th></th>\n",
       "      <th>a</th>\n",
       "      <th>b</th>\n",
       "      <th>y</th>\n",
       "    </tr>\n",
       "  </thead>\n",
       "  <tbody>\n",
       "    <tr>\n",
       "      <th>0</th>\n",
       "      <td>786</td>\n",
       "      <td>1786</td>\n",
       "      <td>0.786</td>\n",
       "    </tr>\n",
       "    <tr>\n",
       "      <th>1</th>\n",
       "      <td>499</td>\n",
       "      <td>1499</td>\n",
       "      <td>0.499</td>\n",
       "    </tr>\n",
       "    <tr>\n",
       "      <th>2</th>\n",
       "      <td>930</td>\n",
       "      <td>1930</td>\n",
       "      <td>0.930</td>\n",
       "    </tr>\n",
       "    <tr>\n",
       "      <th>3</th>\n",
       "      <td>217</td>\n",
       "      <td>1217</td>\n",
       "      <td>0.217</td>\n",
       "    </tr>\n",
       "    <tr>\n",
       "      <th>4</th>\n",
       "      <td>803</td>\n",
       "      <td>1803</td>\n",
       "      <td>0.803</td>\n",
       "    </tr>\n",
       "    <tr>\n",
       "      <th>...</th>\n",
       "      <td>...</td>\n",
       "      <td>...</td>\n",
       "      <td>...</td>\n",
       "    </tr>\n",
       "    <tr>\n",
       "      <th>995</th>\n",
       "      <td>406</td>\n",
       "      <td>1406</td>\n",
       "      <td>0.406</td>\n",
       "    </tr>\n",
       "    <tr>\n",
       "      <th>996</th>\n",
       "      <td>390</td>\n",
       "      <td>1390</td>\n",
       "      <td>0.390</td>\n",
       "    </tr>\n",
       "    <tr>\n",
       "      <th>997</th>\n",
       "      <td>143</td>\n",
       "      <td>1143</td>\n",
       "      <td>0.143</td>\n",
       "    </tr>\n",
       "    <tr>\n",
       "      <th>998</th>\n",
       "      <td>241</td>\n",
       "      <td>1241</td>\n",
       "      <td>0.241</td>\n",
       "    </tr>\n",
       "    <tr>\n",
       "      <th>999</th>\n",
       "      <td>623</td>\n",
       "      <td>1623</td>\n",
       "      <td>0.623</td>\n",
       "    </tr>\n",
       "  </tbody>\n",
       "</table>\n",
       "<p>1000 rows × 3 columns</p>\n",
       "</div>"
      ],
      "text/plain": [
       "       a     b      y\n",
       "0    786  1786  0.786\n",
       "1    499  1499  0.499\n",
       "2    930  1930  0.930\n",
       "3    217  1217  0.217\n",
       "4    803  1803  0.803\n",
       "..   ...   ...    ...\n",
       "995  406  1406  0.406\n",
       "996  390  1390  0.390\n",
       "997  143  1143  0.143\n",
       "998  241  1241  0.241\n",
       "999  623  1623  0.623\n",
       "\n",
       "[1000 rows x 3 columns]"
      ]
     },
     "execution_count": 2,
     "metadata": {},
     "output_type": "execute_result"
    }
   ],
   "source": [
    "# Build a example dataset\n",
    "data = pd.DataFrame({'a':range(1000), 'b':range(1000,2000), 'y': [i/1000 for i in range(1000)]}).sample(frac=1, random_state=17).reset_index(drop=True)\n",
    "data"
   ]
  },
  {
   "cell_type": "code",
   "execution_count": 3,
   "metadata": {},
   "outputs": [],
   "source": [
    "# Split the data into train and test\n",
    "X = data.drop('y', axis=1)\n",
    "y = data['y']"
   ]
  },
  {
   "cell_type": "code",
   "execution_count": 4,
   "metadata": {},
   "outputs": [
    {
     "name": "stdout",
     "output_type": "stream",
     "text": [
      "(600, 2) (200, 2) (200, 2)\n"
     ]
    }
   ],
   "source": [
    "X_train, y_train = X[:600], y[:600]\n",
    "X_val, y_val = X[600:800], y[600:800]\n",
    "X_test, y_test = X[800:], y[800:]\n",
    "print(X_train.shape, X_val.shape, X_test.shape)"
   ]
  },
  {
   "cell_type": "code",
   "execution_count": 5,
   "metadata": {},
   "outputs": [],
   "source": [
    "# Scale the data\n",
    "scaler = StandardScaler()\n",
    "X_train = scaler.fit_transform(X_train)\n",
    "X_val = scaler.transform(X_val)\n",
    "X_test = scaler.transform(X_test)"
   ]
  },
  {
   "cell_type": "markdown",
   "metadata": {},
   "source": [
    "# Keras Model"
   ]
  },
  {
   "cell_type": "code",
   "execution_count": 6,
   "metadata": {},
   "outputs": [],
   "source": [
    "def build_model(params: dict)-> tf.keras.models.Sequential:\n",
    "    \"\"\"\n",
    "    Build a simple feedforward neural network.\n",
    "    \n",
    "    Args:\n",
    "        params: dict, containing the following keys:\n",
    "            - input_shape: int, number of features in the input data\n",
    "            - layers: list of int, number of neurons in each layer\n",
    "            - activation: list of str, activation function for each layer\n",
    "    \n",
    "    Returns:\n",
    "        model: keras model, the compiled neural network\n",
    "    \"\"\"\n",
    "    \n",
    "    # Initialize the model\n",
    "    model = Sequential()\n",
    "    \n",
    "    # Add the input layer\n",
    "    model.add(Dense(params['layers'][0], input_dim=params['input_shape'], activation=params['activation'][0]))\n",
    "    \n",
    "    # Add the remaining hidden layers\n",
    "    if len(params['layers']) > 1:\n",
    "        for layer, activation in zip(params['layers'][1:], params['activation'][1:]):\n",
    "            model.add(Dense(layer, activation=activation))\n",
    "    \n",
    "    return model"
   ]
  },
  {
   "cell_type": "code",
   "execution_count": 7,
   "metadata": {},
   "outputs": [],
   "source": [
    "# Build the model\n",
    "params={\n",
    "    'input_shape': 2,\n",
    "    'layers': [64, 32, 16, 1],\n",
    "    'activation': ['relu', 'relu', 'tanh', 'sigmoid'],\n",
    "}"
   ]
  },
  {
   "cell_type": "code",
   "execution_count": 8,
   "metadata": {},
   "outputs": [],
   "source": [
    "# Set random seed\n",
    "tf.random.set_seed(17)"
   ]
  },
  {
   "cell_type": "code",
   "execution_count": 9,
   "metadata": {},
   "outputs": [
    {
     "name": "stdout",
     "output_type": "stream",
     "text": [
      "WARNING:tensorflow:From c:\\Users\\diego\\Desktop\\Facilitador\\Github\\Basic-Notebooks\\.venv\\lib\\site-packages\\keras\\src\\backend.py:873: The name tf.get_default_graph is deprecated. Please use tf.compat.v1.get_default_graph instead.\n",
      "\n"
     ]
    }
   ],
   "source": [
    "# Initialize the model\n",
    "model = build_model(params)"
   ]
  },
  {
   "cell_type": "code",
   "execution_count": 10,
   "metadata": {},
   "outputs": [
    {
     "name": "stdout",
     "output_type": "stream",
     "text": [
      "Model: \"sequential\"\n",
      "_________________________________________________________________\n",
      " Layer (type)                Output Shape              Param #   \n",
      "=================================================================\n",
      " dense (Dense)               (None, 64)                192       \n",
      "                                                                 \n",
      " dense_1 (Dense)             (None, 32)                2080      \n",
      "                                                                 \n",
      " dense_2 (Dense)             (None, 16)                528       \n",
      "                                                                 \n",
      " dense_3 (Dense)             (None, 1)                 17        \n",
      "                                                                 \n",
      "=================================================================\n",
      "Total params: 2817 (11.00 KB)\n",
      "Trainable params: 2817 (11.00 KB)\n",
      "Non-trainable params: 0 (0.00 Byte)\n",
      "_________________________________________________________________\n"
     ]
    }
   ],
   "source": [
    "model.summary()"
   ]
  },
  {
   "cell_type": "code",
   "execution_count": 11,
   "metadata": {},
   "outputs": [],
   "source": [
    "optimizer = Adam(learning_rate=0.01)\n",
    "scheduler = LearningRateScheduler(lambda _, lr: lr * 0.9)"
   ]
  },
  {
   "cell_type": "code",
   "execution_count": 12,
   "metadata": {},
   "outputs": [],
   "source": [
    "# Compile the model\n",
    "model.compile(loss='mean_squared_error', optimizer=optimizer, metrics=[r2_score], run_eagerly=True)"
   ]
  },
  {
   "cell_type": "code",
   "execution_count": 13,
   "metadata": {},
   "outputs": [],
   "source": [
    "# Add early stopping\n",
    "early_stopping = EarlyStopping(monitor='val_loss', patience=10, start_from_epoch=20)"
   ]
  },
  {
   "cell_type": "code",
   "execution_count": 14,
   "metadata": {},
   "outputs": [
    {
     "name": "stdout",
     "output_type": "stream",
     "text": [
      "Epoch 1/100\n",
      "WARNING:tensorflow:From c:\\Users\\diego\\Desktop\\Facilitador\\Github\\Basic-Notebooks\\.venv\\lib\\site-packages\\keras\\src\\utils\\tf_utils.py:492: The name tf.ragged.RaggedTensorValue is deprecated. Please use tf.compat.v1.ragged.RaggedTensorValue instead.\n",
      "\n",
      "WARNING:tensorflow:AutoGraph could not transform <function validate_parameter_constraints at 0x0000013DCF785A20> and will run it as-is.\n",
      "Cause: for/else statement not yet supported\n",
      "To silence this warning, decorate the function with @tf.autograph.experimental.do_not_convert\n",
      "WARNING: AutoGraph could not transform <function validate_parameter_constraints at 0x0000013DCF785A20> and will run it as-is.\n",
      "Cause: for/else statement not yet supported\n",
      "To silence this warning, decorate the function with @tf.autograph.experimental.do_not_convert\n",
      "10/10 [==============================] - 3s 98ms/step - loss: 0.0140 - r2_score: 0.8341 - val_loss: 0.0032 - val_r2_score: 0.9629 - lr: 0.0090\n",
      "Epoch 2/100\n",
      "10/10 [==============================] - 1s 94ms/step - loss: 0.0022 - r2_score: 0.9730 - val_loss: 0.0017 - val_r2_score: 0.9813 - lr: 0.0081\n",
      "Epoch 3/100\n",
      "10/10 [==============================] - 1s 95ms/step - loss: 0.0011 - r2_score: 0.9865 - val_loss: 9.1584e-04 - val_r2_score: 0.9892 - lr: 0.0073\n",
      "Epoch 4/100\n",
      "10/10 [==============================] - 1s 94ms/step - loss: 7.0551e-04 - r2_score: 0.9912 - val_loss: 6.6766e-04 - val_r2_score: 0.9931 - lr: 0.0066\n",
      "Epoch 5/100\n",
      "10/10 [==============================] - 1s 94ms/step - loss: 5.2953e-04 - r2_score: 0.9936 - val_loss: 5.1938e-04 - val_r2_score: 0.9943 - lr: 0.0059\n",
      "Epoch 6/100\n",
      "10/10 [==============================] - 1s 95ms/step - loss: 4.4349e-04 - r2_score: 0.9946 - val_loss: 4.3369e-04 - val_r2_score: 0.9956 - lr: 0.0053\n",
      "Epoch 7/100\n",
      "10/10 [==============================] - 1s 96ms/step - loss: 3.8110e-04 - r2_score: 0.9953 - val_loss: 3.6455e-04 - val_r2_score: 0.9962 - lr: 0.0048\n",
      "Epoch 8/100\n",
      "10/10 [==============================] - 1s 95ms/step - loss: 3.3235e-04 - r2_score: 0.9959 - val_loss: 3.2070e-04 - val_r2_score: 0.9967 - lr: 0.0043\n",
      "Epoch 9/100\n",
      "10/10 [==============================] - 1s 95ms/step - loss: 3.0071e-04 - r2_score: 0.9964 - val_loss: 2.8774e-04 - val_r2_score: 0.9970 - lr: 0.0039\n",
      "Epoch 10/100\n",
      "10/10 [==============================] - 1s 95ms/step - loss: 2.6979e-04 - r2_score: 0.9968 - val_loss: 2.6215e-04 - val_r2_score: 0.9973 - lr: 0.0035\n",
      "Epoch 11/100\n",
      "10/10 [==============================] - 1s 94ms/step - loss: 2.4852e-04 - r2_score: 0.9969 - val_loss: 2.5132e-04 - val_r2_score: 0.9974 - lr: 0.0031\n",
      "Epoch 12/100\n",
      "10/10 [==============================] - 1s 95ms/step - loss: 2.3178e-04 - r2_score: 0.9972 - val_loss: 2.2678e-04 - val_r2_score: 0.9977 - lr: 0.0028\n",
      "Epoch 13/100\n",
      "10/10 [==============================] - 1s 94ms/step - loss: 2.1625e-04 - r2_score: 0.9973 - val_loss: 2.1138e-04 - val_r2_score: 0.9979 - lr: 0.0025\n",
      "Epoch 14/100\n",
      "10/10 [==============================] - 1s 94ms/step - loss: 2.0426e-04 - r2_score: 0.9975 - val_loss: 2.0219e-04 - val_r2_score: 0.9980 - lr: 0.0023\n",
      "Epoch 15/100\n",
      "10/10 [==============================] - 1s 94ms/step - loss: 1.9390e-04 - r2_score: 0.9975 - val_loss: 1.9095e-04 - val_r2_score: 0.9981 - lr: 0.0021\n",
      "Epoch 16/100\n",
      "10/10 [==============================] - 1s 95ms/step - loss: 1.8521e-04 - r2_score: 0.9978 - val_loss: 1.8089e-04 - val_r2_score: 0.9982 - lr: 0.0019\n",
      "Epoch 17/100\n",
      "10/10 [==============================] - 1s 94ms/step - loss: 1.7598e-04 - r2_score: 0.9978 - val_loss: 1.7390e-04 - val_r2_score: 0.9983 - lr: 0.0017\n",
      "Epoch 18/100\n",
      "10/10 [==============================] - 1s 94ms/step - loss: 1.7004e-04 - r2_score: 0.9979 - val_loss: 1.6435e-04 - val_r2_score: 0.9984 - lr: 0.0015\n",
      "Epoch 19/100\n",
      "10/10 [==============================] - 1s 93ms/step - loss: 1.6675e-04 - r2_score: 0.9979 - val_loss: 1.7122e-04 - val_r2_score: 0.9983 - lr: 0.0014\n",
      "Epoch 20/100\n",
      "10/10 [==============================] - 1s 94ms/step - loss: 1.6103e-04 - r2_score: 0.9979 - val_loss: 1.5774e-04 - val_r2_score: 0.9984 - lr: 0.0012\n",
      "Epoch 21/100\n",
      "10/10 [==============================] - 1s 93ms/step - loss: 1.5455e-04 - r2_score: 0.9981 - val_loss: 1.5735e-04 - val_r2_score: 0.9984 - lr: 0.0011\n",
      "Epoch 22/100\n",
      "10/10 [==============================] - 1s 94ms/step - loss: 1.5126e-04 - r2_score: 0.9980 - val_loss: 1.4860e-04 - val_r2_score: 0.9985 - lr: 9.8477e-04\n",
      "Epoch 23/100\n",
      "10/10 [==============================] - 1s 95ms/step - loss: 1.4867e-04 - r2_score: 0.9982 - val_loss: 1.4754e-04 - val_r2_score: 0.9985 - lr: 8.8629e-04\n",
      "Epoch 24/100\n",
      "10/10 [==============================] - 1s 95ms/step - loss: 1.4442e-04 - r2_score: 0.9982 - val_loss: 1.4169e-04 - val_r2_score: 0.9986 - lr: 7.9766e-04\n",
      "Epoch 25/100\n",
      "10/10 [==============================] - 1s 94ms/step - loss: 1.4094e-04 - r2_score: 0.9983 - val_loss: 1.4041e-04 - val_r2_score: 0.9986 - lr: 7.1790e-04\n",
      "Epoch 26/100\n",
      "10/10 [==============================] - 1s 94ms/step - loss: 1.3861e-04 - r2_score: 0.9983 - val_loss: 1.3811e-04 - val_r2_score: 0.9986 - lr: 6.4611e-04\n",
      "Epoch 27/100\n",
      "10/10 [==============================] - 1s 95ms/step - loss: 1.3700e-04 - r2_score: 0.9982 - val_loss: 1.3562e-04 - val_r2_score: 0.9987 - lr: 5.8150e-04\n",
      "Epoch 28/100\n",
      "10/10 [==============================] - 1s 94ms/step - loss: 1.3509e-04 - r2_score: 0.9983 - val_loss: 1.3344e-04 - val_r2_score: 0.9987 - lr: 5.2335e-04\n",
      "Epoch 29/100\n",
      "10/10 [==============================] - 1s 94ms/step - loss: 1.3308e-04 - r2_score: 0.9984 - val_loss: 1.3132e-04 - val_r2_score: 0.9987 - lr: 4.7101e-04\n",
      "Epoch 30/100\n",
      "10/10 [==============================] - 1s 94ms/step - loss: 1.3180e-04 - r2_score: 0.9984 - val_loss: 1.3017e-04 - val_r2_score: 0.9987 - lr: 4.2391e-04\n",
      "Epoch 31/100\n",
      "10/10 [==============================] - 1s 94ms/step - loss: 1.3025e-04 - r2_score: 0.9985 - val_loss: 1.2989e-04 - val_r2_score: 0.9987 - lr: 3.8152e-04\n",
      "Epoch 32/100\n",
      "10/10 [==============================] - 1s 94ms/step - loss: 1.2879e-04 - r2_score: 0.9983 - val_loss: 1.2834e-04 - val_r2_score: 0.9987 - lr: 3.4337e-04\n",
      "Epoch 33/100\n",
      "10/10 [==============================] - 1s 94ms/step - loss: 1.2778e-04 - r2_score: 0.9985 - val_loss: 1.2819e-04 - val_r2_score: 0.9987 - lr: 3.0903e-04\n",
      "Epoch 34/100\n",
      "10/10 [==============================] - 1s 94ms/step - loss: 1.2671e-04 - r2_score: 0.9984 - val_loss: 1.2596e-04 - val_r2_score: 0.9988 - lr: 2.7813e-04\n",
      "Epoch 35/100\n",
      "10/10 [==============================] - 1s 94ms/step - loss: 1.2580e-04 - r2_score: 0.9985 - val_loss: 1.2554e-04 - val_r2_score: 0.9988 - lr: 2.5032e-04\n",
      "Epoch 36/100\n",
      "10/10 [==============================] - 1s 94ms/step - loss: 1.2495e-04 - r2_score: 0.9984 - val_loss: 1.2485e-04 - val_r2_score: 0.9988 - lr: 2.2528e-04\n",
      "Epoch 37/100\n",
      "10/10 [==============================] - 1s 94ms/step - loss: 1.2417e-04 - r2_score: 0.9985 - val_loss: 1.2410e-04 - val_r2_score: 0.9988 - lr: 2.0276e-04\n",
      "Epoch 38/100\n",
      "10/10 [==============================] - 1s 94ms/step - loss: 1.2352e-04 - r2_score: 0.9986 - val_loss: 1.2386e-04 - val_r2_score: 0.9988 - lr: 1.8248e-04\n",
      "Epoch 39/100\n",
      "10/10 [==============================] - 1s 94ms/step - loss: 1.2293e-04 - r2_score: 0.9985 - val_loss: 1.2274e-04 - val_r2_score: 0.9988 - lr: 1.6423e-04\n",
      "Epoch 40/100\n",
      "10/10 [==============================] - 1s 94ms/step - loss: 1.2249e-04 - r2_score: 0.9985 - val_loss: 1.2210e-04 - val_r2_score: 0.9988 - lr: 1.4781e-04\n",
      "Epoch 41/100\n",
      "10/10 [==============================] - 1s 94ms/step - loss: 1.2203e-04 - r2_score: 0.9983 - val_loss: 1.2286e-04 - val_r2_score: 0.9988 - lr: 1.3303e-04\n",
      "Epoch 42/100\n",
      "10/10 [==============================] - 1s 95ms/step - loss: 1.2142e-04 - r2_score: 0.9984 - val_loss: 1.2096e-04 - val_r2_score: 0.9988 - lr: 1.1973e-04\n",
      "Epoch 43/100\n",
      "10/10 [==============================] - 1s 96ms/step - loss: 1.2105e-04 - r2_score: 0.9986 - val_loss: 1.2079e-04 - val_r2_score: 0.9988 - lr: 1.0775e-04\n",
      "Epoch 44/100\n",
      "10/10 [==============================] - 1s 95ms/step - loss: 1.2061e-04 - r2_score: 0.9985 - val_loss: 1.2067e-04 - val_r2_score: 0.9988 - lr: 9.6977e-05\n",
      "Epoch 45/100\n",
      "10/10 [==============================] - 1s 94ms/step - loss: 1.2033e-04 - r2_score: 0.9986 - val_loss: 1.2015e-04 - val_r2_score: 0.9988 - lr: 8.7280e-05\n",
      "Epoch 46/100\n",
      "10/10 [==============================] - 1s 96ms/step - loss: 1.1997e-04 - r2_score: 0.9986 - val_loss: 1.1994e-04 - val_r2_score: 0.9988 - lr: 7.8552e-05\n",
      "Epoch 47/100\n",
      "10/10 [==============================] - 1s 94ms/step - loss: 1.1972e-04 - r2_score: 0.9985 - val_loss: 1.1951e-04 - val_r2_score: 0.9988 - lr: 7.0697e-05\n",
      "Epoch 48/100\n",
      "10/10 [==============================] - 1s 95ms/step - loss: 1.1952e-04 - r2_score: 0.9985 - val_loss: 1.1905e-04 - val_r2_score: 0.9988 - lr: 6.3627e-05\n",
      "Epoch 49/100\n",
      "10/10 [==============================] - 1s 94ms/step - loss: 1.1925e-04 - r2_score: 0.9985 - val_loss: 1.1946e-04 - val_r2_score: 0.9988 - lr: 5.7264e-05\n",
      "Epoch 50/100\n",
      "10/10 [==============================] - 1s 95ms/step - loss: 1.1906e-04 - r2_score: 0.9986 - val_loss: 1.1961e-04 - val_r2_score: 0.9988 - lr: 5.1538e-05\n",
      "Epoch 51/100\n",
      "10/10 [==============================] - 1s 95ms/step - loss: 1.1885e-04 - r2_score: 0.9986 - val_loss: 1.1934e-04 - val_r2_score: 0.9988 - lr: 4.6384e-05\n",
      "Epoch 52/100\n",
      "10/10 [==============================] - 1s 95ms/step - loss: 1.1867e-04 - r2_score: 0.9985 - val_loss: 1.1912e-04 - val_r2_score: 0.9988 - lr: 4.1746e-05\n",
      "Epoch 53/100\n",
      "10/10 [==============================] - 1s 95ms/step - loss: 1.1852e-04 - r2_score: 0.9986 - val_loss: 1.1885e-04 - val_r2_score: 0.9988 - lr: 3.7571e-05\n",
      "Epoch 54/100\n",
      "10/10 [==============================] - 1s 95ms/step - loss: 1.1839e-04 - r2_score: 0.9985 - val_loss: 1.1872e-04 - val_r2_score: 0.9988 - lr: 3.3814e-05\n",
      "Epoch 55/100\n",
      "10/10 [==============================] - 1s 94ms/step - loss: 1.1826e-04 - r2_score: 0.9986 - val_loss: 1.1845e-04 - val_r2_score: 0.9988 - lr: 3.0433e-05\n",
      "Epoch 56/100\n",
      "10/10 [==============================] - 1s 94ms/step - loss: 1.1816e-04 - r2_score: 0.9986 - val_loss: 1.1843e-04 - val_r2_score: 0.9988 - lr: 2.7389e-05\n",
      "Epoch 57/100\n",
      "10/10 [==============================] - 1s 94ms/step - loss: 1.1806e-04 - r2_score: 0.9986 - val_loss: 1.1828e-04 - val_r2_score: 0.9988 - lr: 2.4650e-05\n",
      "Epoch 58/100\n",
      "10/10 [==============================] - 1s 94ms/step - loss: 1.1794e-04 - r2_score: 0.9985 - val_loss: 1.1825e-04 - val_r2_score: 0.9988 - lr: 2.2185e-05\n",
      "Epoch 59/100\n",
      "10/10 [==============================] - 1s 94ms/step - loss: 1.1785e-04 - r2_score: 0.9986 - val_loss: 1.1817e-04 - val_r2_score: 0.9988 - lr: 1.9967e-05\n",
      "Epoch 60/100\n",
      "10/10 [==============================] - 1s 94ms/step - loss: 1.1778e-04 - r2_score: 0.9985 - val_loss: 1.1811e-04 - val_r2_score: 0.9988 - lr: 1.7970e-05\n",
      "Epoch 61/100\n",
      "10/10 [==============================] - 1s 95ms/step - loss: 1.1770e-04 - r2_score: 0.9986 - val_loss: 1.1807e-04 - val_r2_score: 0.9988 - lr: 1.6173e-05\n",
      "Epoch 62/100\n",
      "10/10 [==============================] - 1s 95ms/step - loss: 1.1765e-04 - r2_score: 0.9986 - val_loss: 1.1813e-04 - val_r2_score: 0.9988 - lr: 1.4556e-05\n",
      "Epoch 63/100\n",
      "10/10 [==============================] - 1s 95ms/step - loss: 1.1759e-04 - r2_score: 0.9985 - val_loss: 1.1807e-04 - val_r2_score: 0.9988 - lr: 1.3100e-05\n",
      "Epoch 64/100\n",
      "10/10 [==============================] - 1s 95ms/step - loss: 1.1754e-04 - r2_score: 0.9985 - val_loss: 1.1799e-04 - val_r2_score: 0.9988 - lr: 1.1790e-05\n",
      "Epoch 65/100\n",
      "10/10 [==============================] - 1s 95ms/step - loss: 1.1750e-04 - r2_score: 0.9986 - val_loss: 1.1786e-04 - val_r2_score: 0.9988 - lr: 1.0611e-05\n",
      "Epoch 66/100\n",
      "10/10 [==============================] - 1s 95ms/step - loss: 1.1745e-04 - r2_score: 0.9986 - val_loss: 1.1774e-04 - val_r2_score: 0.9988 - lr: 9.5501e-06\n",
      "Epoch 67/100\n",
      "10/10 [==============================] - 1s 94ms/step - loss: 1.1741e-04 - r2_score: 0.9986 - val_loss: 1.1769e-04 - val_r2_score: 0.9988 - lr: 8.5950e-06\n",
      "Epoch 68/100\n",
      "10/10 [==============================] - 1s 95ms/step - loss: 1.1737e-04 - r2_score: 0.9985 - val_loss: 1.1770e-04 - val_r2_score: 0.9988 - lr: 7.7355e-06\n",
      "Epoch 69/100\n",
      "10/10 [==============================] - 1s 95ms/step - loss: 1.1733e-04 - r2_score: 0.9985 - val_loss: 1.1767e-04 - val_r2_score: 0.9988 - lr: 6.9620e-06\n",
      "Epoch 70/100\n",
      "10/10 [==============================] - 1s 94ms/step - loss: 1.1730e-04 - r2_score: 0.9985 - val_loss: 1.1763e-04 - val_r2_score: 0.9988 - lr: 6.2658e-06\n",
      "Epoch 71/100\n",
      "10/10 [==============================] - 1s 94ms/step - loss: 1.1728e-04 - r2_score: 0.9985 - val_loss: 1.1764e-04 - val_r2_score: 0.9988 - lr: 5.6392e-06\n",
      "Epoch 72/100\n",
      "10/10 [==============================] - 1s 94ms/step - loss: 1.1725e-04 - r2_score: 0.9986 - val_loss: 1.1761e-04 - val_r2_score: 0.9988 - lr: 5.0753e-06\n",
      "Epoch 73/100\n",
      "10/10 [==============================] - 1s 94ms/step - loss: 1.1724e-04 - r2_score: 0.9986 - val_loss: 1.1760e-04 - val_r2_score: 0.9988 - lr: 4.5678e-06\n",
      "Epoch 74/100\n",
      "10/10 [==============================] - 1s 93ms/step - loss: 1.1721e-04 - r2_score: 0.9986 - val_loss: 1.1760e-04 - val_r2_score: 0.9988 - lr: 4.1110e-06\n",
      "Epoch 75/100\n",
      "10/10 [==============================] - 1s 94ms/step - loss: 1.1720e-04 - r2_score: 0.9986 - val_loss: 1.1764e-04 - val_r2_score: 0.9988 - lr: 3.6999e-06\n",
      "Epoch 76/100\n",
      "10/10 [==============================] - 1s 94ms/step - loss: 1.1718e-04 - r2_score: 0.9986 - val_loss: 1.1766e-04 - val_r2_score: 0.9988 - lr: 3.3299e-06\n",
      "Epoch 77/100\n",
      "10/10 [==============================] - 1s 94ms/step - loss: 1.1717e-04 - r2_score: 0.9986 - val_loss: 1.1764e-04 - val_r2_score: 0.9988 - lr: 2.9969e-06\n",
      "Epoch 78/100\n",
      "10/10 [==============================] - 1s 94ms/step - loss: 1.1715e-04 - r2_score: 0.9985 - val_loss: 1.1762e-04 - val_r2_score: 0.9988 - lr: 2.6972e-06\n",
      "Epoch 79/100\n",
      "10/10 [==============================] - 1s 94ms/step - loss: 1.1714e-04 - r2_score: 0.9986 - val_loss: 1.1765e-04 - val_r2_score: 0.9988 - lr: 2.4275e-06\n",
      "Epoch 80/100\n",
      "10/10 [==============================] - 1s 95ms/step - loss: 1.1713e-04 - r2_score: 0.9985 - val_loss: 1.1762e-04 - val_r2_score: 0.9988 - lr: 2.1847e-06\n",
      "Epoch 81/100\n",
      "10/10 [==============================] - 1s 95ms/step - loss: 1.1712e-04 - r2_score: 0.9985 - val_loss: 1.1759e-04 - val_r2_score: 0.9988 - lr: 1.9663e-06\n",
      "Epoch 82/100\n",
      "10/10 [==============================] - 1s 94ms/step - loss: 1.1711e-04 - r2_score: 0.9986 - val_loss: 1.1756e-04 - val_r2_score: 0.9988 - lr: 1.7696e-06\n",
      "Epoch 83/100\n",
      "10/10 [==============================] - 1s 96ms/step - loss: 1.1710e-04 - r2_score: 0.9986 - val_loss: 1.1755e-04 - val_r2_score: 0.9988 - lr: 1.5927e-06\n",
      "Epoch 84/100\n",
      "10/10 [==============================] - 1s 95ms/step - loss: 1.1710e-04 - r2_score: 0.9986 - val_loss: 1.1752e-04 - val_r2_score: 0.9988 - lr: 1.4334e-06\n",
      "Epoch 85/100\n",
      "10/10 [==============================] - 1s 95ms/step - loss: 1.1709e-04 - r2_score: 0.9986 - val_loss: 1.1752e-04 - val_r2_score: 0.9988 - lr: 1.2901e-06\n",
      "Epoch 86/100\n",
      "10/10 [==============================] - 1s 95ms/step - loss: 1.1708e-04 - r2_score: 0.9986 - val_loss: 1.1752e-04 - val_r2_score: 0.9988 - lr: 1.1611e-06\n",
      "Epoch 87/100\n",
      "10/10 [==============================] - 1s 94ms/step - loss: 1.1708e-04 - r2_score: 0.9987 - val_loss: 1.1751e-04 - val_r2_score: 0.9988 - lr: 1.0450e-06\n",
      "Epoch 88/100\n",
      "10/10 [==============================] - 1s 94ms/step - loss: 1.1707e-04 - r2_score: 0.9985 - val_loss: 1.1751e-04 - val_r2_score: 0.9988 - lr: 9.4046e-07\n",
      "Epoch 89/100\n",
      "10/10 [==============================] - 1s 96ms/step - loss: 1.1707e-04 - r2_score: 0.9986 - val_loss: 1.1750e-04 - val_r2_score: 0.9988 - lr: 8.4642e-07\n",
      "Epoch 90/100\n",
      "10/10 [==============================] - 1s 94ms/step - loss: 1.1706e-04 - r2_score: 0.9986 - val_loss: 1.1749e-04 - val_r2_score: 0.9988 - lr: 7.6177e-07\n",
      "Epoch 91/100\n",
      "10/10 [==============================] - 1s 94ms/step - loss: 1.1706e-04 - r2_score: 0.9986 - val_loss: 1.1749e-04 - val_r2_score: 0.9988 - lr: 6.8560e-07\n",
      "Epoch 92/100\n",
      "10/10 [==============================] - 1s 94ms/step - loss: 1.1705e-04 - r2_score: 0.9986 - val_loss: 1.1749e-04 - val_r2_score: 0.9988 - lr: 6.1704e-07\n",
      "Epoch 93/100\n",
      "10/10 [==============================] - 1s 95ms/step - loss: 1.1705e-04 - r2_score: 0.9985 - val_loss: 1.1748e-04 - val_r2_score: 0.9988 - lr: 5.5533e-07\n",
      "Epoch 94/100\n",
      "10/10 [==============================] - 1s 95ms/step - loss: 1.1705e-04 - r2_score: 0.9987 - val_loss: 1.1748e-04 - val_r2_score: 0.9988 - lr: 4.9980e-07\n",
      "Epoch 95/100\n",
      "10/10 [==============================] - 1s 95ms/step - loss: 1.1705e-04 - r2_score: 0.9986 - val_loss: 1.1748e-04 - val_r2_score: 0.9988 - lr: 4.4982e-07\n",
      "Epoch 96/100\n",
      "10/10 [==============================] - 1s 95ms/step - loss: 1.1704e-04 - r2_score: 0.9986 - val_loss: 1.1747e-04 - val_r2_score: 0.9988 - lr: 4.0484e-07\n",
      "Epoch 97/100\n",
      "10/10 [==============================] - 1s 94ms/step - loss: 1.1704e-04 - r2_score: 0.9987 - val_loss: 1.1747e-04 - val_r2_score: 0.9988 - lr: 3.6435e-07\n",
      "Epoch 98/100\n",
      "10/10 [==============================] - 1s 95ms/step - loss: 1.1704e-04 - r2_score: 0.9985 - val_loss: 1.1747e-04 - val_r2_score: 0.9988 - lr: 3.2792e-07\n",
      "Epoch 99/100\n",
      "10/10 [==============================] - 1s 94ms/step - loss: 1.1704e-04 - r2_score: 0.9986 - val_loss: 1.1747e-04 - val_r2_score: 0.9988 - lr: 2.9513e-07\n",
      "Epoch 100/100\n",
      "10/10 [==============================] - 1s 94ms/step - loss: 1.1704e-04 - r2_score: 0.9986 - val_loss: 1.1747e-04 - val_r2_score: 0.9988 - lr: 2.6561e-07\n"
     ]
    },
    {
     "data": {
      "text/plain": [
       "<keras.src.callbacks.History at 0x13dd98118a0>"
      ]
     },
     "execution_count": 14,
     "metadata": {},
     "output_type": "execute_result"
    }
   ],
   "source": [
    "# Train the model\n",
    "model.fit(X_train, y_train, validation_data=[X_val, y_val], epochs=100, batch_size=64, callbacks=[early_stopping, scheduler], verbose=1)"
   ]
  },
  {
   "cell_type": "code",
   "execution_count": 15,
   "metadata": {},
   "outputs": [
    {
     "name": "stdout",
     "output_type": "stream",
     "text": [
      "7/7 [==============================] - 0s 54ms/step - loss: 1.3642e-04 - r2_score: 0.9986\n",
      "Accuracy: 99.86\n"
     ]
    }
   ],
   "source": [
    "# Evaluate the model\n",
    "_, accuracy = model.evaluate(X_test, y_test)\n",
    "print('Accuracy: %.2f' % (accuracy*100))"
   ]
  },
  {
   "cell_type": "code",
   "execution_count": null,
   "metadata": {},
   "outputs": [],
   "source": []
  }
 ],
 "metadata": {
  "kernelspec": {
   "display_name": "Python 3",
   "language": "python",
   "name": "python3"
  },
  "language_info": {
   "codemirror_mode": {
    "name": "ipython",
    "version": 3
   },
   "file_extension": ".py",
   "mimetype": "text/x-python",
   "name": "python",
   "nbconvert_exporter": "python",
   "pygments_lexer": "ipython3",
   "version": "3.10.9"
  }
 },
 "nbformat": 4,
 "nbformat_minor": 2
}
